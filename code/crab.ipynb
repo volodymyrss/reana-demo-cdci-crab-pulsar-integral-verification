{
 "cells": [
  {
   "cell_type": "code",
   "execution_count": null,
   "metadata": {
    "tags": [
     "parameters"
    ]
   },
   "outputs": [],
   "source": [
    "t1=\"2018-08-29T00:00:00\"\n",
    "t2=\"2018-09-20T00:00:00\"\n",
    "nscw=5\n",
    "chi2_limit=1.2\n",
    "systematic_fraction=0.01"
   ]
  },
  {
   "cell_type": "code",
   "execution_count": null,
   "metadata": {},
   "outputs": [],
   "source": [
    "%matplotlib notebook\n",
    "import matplotlib.pylab as plt\n",
    "\n",
    "\n",
    "import numpy as np\n",
    "import importlib\n",
    "from astroquery.simbad import Simbad\n",
    "from astropy import coordinates as coord"
   ]
  },
  {
   "cell_type": "code",
   "execution_count": null,
   "metadata": {},
   "outputs": [],
   "source": [
    "print(\"t1,t2\",t1,t2)"
   ]
  },
  {
   "cell_type": "code",
   "execution_count": null,
   "metadata": {},
   "outputs": [],
   "source": [
    "result_table = Simbad.query_object(\"Crab\", wildcard=True)\n",
    "crab_coord = coord.SkyCoord(result_table['RA'][0], result_table['DEC'][0], unit=(\"hourangle\", \"deg\"))"
   ]
  },
  {
   "cell_type": "code",
   "execution_count": null,
   "metadata": {},
   "outputs": [],
   "source": [
    "import requests\n",
    "\n",
    "scw_picks={}\n",
    "\n",
    "def scwlist(kind):\n",
    "    print(t1,t2)\n",
    "    r=requests.get(\"https://www.astro.unige.ch/cdci/astrooda/dispatch-data/gw/timesystem/api/v1.0/scwlist/{kind}/{t1}/{t2}\".format(\n",
    "                    kind=kind,\n",
    "                    t1=t1,\n",
    "                    t2=t2,\n",
    "                ),\n",
    "                  params=dict(\n",
    "                      ra=crab_coord.ra.deg,\n",
    "                      dec=crab_coord.dec.deg,\n",
    "                      radius=10,\n",
    "                  ))\n",
    "\n",
    "    return [s for s in r.json() if s.endswith(\"0010\")]\n",
    "\n",
    "scwlist_cons = scwlist('cons')\n",
    "scwlist_nrt = scwlist('nrt')\n",
    "\n",
    "\n",
    "scw_pick = [\n",
    "            s+\".\"+(\"001\" if s in scwlist_cons else \"000\")\n",
    "            for s in list(sorted(set( scwlist_nrt + scwlist_cons ))) \n",
    "            if s.endswith(\"0010\")\n",
    "        ][:nscw]\n",
    "\n",
    "\n",
    "scw_list_str = \",\".join(scw_pick)\n",
    "scw_list_str"
   ]
  },
  {
   "cell_type": "code",
   "execution_count": null,
   "metadata": {},
   "outputs": [],
   "source": [
    "import oda_api.api\n",
    "import importlib\n",
    "importlib.reload(oda_api)\n",
    "\n",
    "disp = oda_api.api.DispatcherAPI(host=\"https://www.astro.unige.ch/cdci/astrooda/dispatch-data/\")\n",
    "#disp = oda_api.api.DispatcherAPI(host=\"http://cdcihn.isdc.unige.ch/staging-1.2/dispatcher\")\n",
    "\n",
    "#disp.get_instrument_description(\"isgri\")\n",
    "\n"
   ]
  },
  {
   "cell_type": "code",
   "execution_count": null,
   "metadata": {},
   "outputs": [],
   "source": [
    "crab_by_osa={}\n",
    "\n",
    "\n",
    "#for osa_version in \"OSA11.0\", \"OSA10.2\":\n",
    "for osa_version in [\"OSA11.0\"]:\n",
    "    crab_by_lt={}\n",
    "    crab_by_osa[osa_version]=crab_by_lt\n",
    "\n",
    "    for c_emin in np.linspace(20,35,5):\n",
    "\n",
    "        image = disp.get_product(instrument=\"isgri\", \n",
    "                         product=\"isgri_image\", \n",
    "                         product_type=\"Real\", \n",
    "                         osa_version=osa_version,\n",
    "                         E1_keV=np.round(c_emin),\n",
    "                         E2_keV=80.0,\n",
    "                         scw_list=scw_list_str)\n",
    "\n",
    "        crab=image.dispatcher_catalog_1.table[np.argmax(image.dispatcher_catalog_1.table['significance'])]\n",
    "\n",
    "        d=image.mosaic_image_0.data_unit[1].data\n",
    "\n",
    "\n",
    "        img=np.array(d.data)\n",
    "\n",
    "        m_bkg=img<10\n",
    "        m_bkg&=img!=0\n",
    "\n",
    "        img_std = np.std(img[m_bkg])\n",
    "\n",
    "        img[np.array(img)>img_std*5]=img_std*5\n",
    "\n",
    "        plt.imshow(img)\n",
    "\n",
    "        crab_by_lt['%.10lg'%c_emin]=dict(\n",
    "            emin=c_emin,            \n",
    "            imgstd=img_std,\n",
    "        )\n",
    "        crab_by_lt['%.10lg'%c_emin].update(dict([(n, crab[n]) for n in crab.colnames]))\n"
   ]
  },
  {
   "cell_type": "code",
   "execution_count": null,
   "metadata": {},
   "outputs": [],
   "source": [
    "for lt, c in crab_by_lt.items():\n",
    "    print(lt, c['significance'],c['significance']/c['imgstd'])"
   ]
  },
  {
   "cell_type": "code",
   "execution_count": null,
   "metadata": {},
   "outputs": [],
   "source": [
    "spectrum = disp.get_product(instrument=\"isgri\", \n",
    "                 product=\"isgri_spectrum\", \n",
    "                 product_type=\"Real\", \n",
    "                 osa_version='OSA11.0',\n",
    "                 E1_keV=25.0,\n",
    "                 E2_keV=80.0,\n",
    "                 scw_list=scw_list_str)"
   ]
  },
  {
   "cell_type": "code",
   "execution_count": null,
   "metadata": {},
   "outputs": [],
   "source": [
    "crab_specprod=[l for l in spectrum._p_list if l.meta_data['src_name'] == \"Crab\"]    \n",
    "\n",
    "crab_specprod[0].write_fits_file(\"/tmp/isgri_spectrum_Crab.fits\")\n",
    "crab_specprod[2].write_fits_file(\"/tmp/isgri_rmf_Crab.fits\")"
   ]
  },
  {
   "cell_type": "code",
   "execution_count": null,
   "metadata": {},
   "outputs": [],
   "source": [
    "\n",
    "from IPython.display import Image\n",
    "from IPython.display import display \n",
    "import xspec\n",
    "import shutil\n",
    "\n"
   ]
  },
  {
   "cell_type": "code",
   "execution_count": null,
   "metadata": {},
   "outputs": [],
   "source": [
    "importlib.reload(xspec)\n",
    "\n",
    "fit_by_lt = {}\n",
    "\n",
    "fn_by_lt={}\n",
    "\n",
    "xspec.AllModels.systematic=systematic_fraction   \n",
    "\n",
    "for c_emin in np.linspace(25,40,15):\n",
    "    xspec.AllData.clear()\n",
    "\n",
    "    s = xspec.Spectrum(\"/tmp/isgri_spectrum_Crab.fits\")   \n",
    "    s.response=\"/tmp/isgri_rmf_Crab.fits\"\n",
    "    \n",
    "    ig=\"**-%.2f 400.-**\"%c_emin\n",
    "    \n",
    "    lt_key='%.10lg'%c_emin\n",
    "    \n",
    "    print(ig)\n",
    "    s.ignore(ig)\n",
    "\n",
    "      \n",
    "    if False:\n",
    "        m = xspec.Model(\"grbm\")\n",
    "        m.grbm.tem=600\n",
    "        m.grbm.tem.frozen=True\n",
    "        \n",
    "        xspec.Fit.perform()\n",
    "\n",
    "        print(m.grbm.alpha.values,m.grbm.beta.values, xspec.Fit.statistic/xspec.Fit.dof)\n",
    "    else:\n",
    "        m = xspec.Model(\"bknpo\")\n",
    "        m.bknpower.BreakE=100\n",
    "        m.bknpower.BreakE.frozen=True\n",
    "      \n",
    "        xspec.Fit.perform()\n",
    "\n",
    "        print(m.bknpower.PhoIndx1.values,m.bknpower.PhoIndx2.values, )\n",
    "        \n",
    "        fit_by_lt[lt_key]=dict(\n",
    "            emin=c_emin,\n",
    "            chi2_red=xspec.Fit.statistic/xspec.Fit.dof,\n",
    "            PhoIndx1=m.bknpower.PhoIndx1.values,\n",
    "            PhoIndx2=m.bknpower.PhoIndx2.values,\n",
    "        )\n",
    "        \n",
    "    \n",
    "    xspec.Plot.device=\"/png\"\n",
    "    #xspec.Plot.addCommand(\"setplot en\")\n",
    "    xspec.Plot.xAxis=\"keV\"\n",
    "    xspec.Plot(\"ldata del\")\n",
    "    xspec.Plot.device=\"/png\"\n",
    "    \n",
    "    fn=\"fit_lt%.5lg.png\"%c_emin\n",
    "    \n",
    "    fn_by_lt[lt_key] = fn\n",
    "    \n",
    "    shutil.move(\"pgplot.png_2\", fn)\n",
    "\n",
    "    _=display(Image(filename=fn,format=\"png\"))\n",
    "\n"
   ]
  },
  {
   "cell_type": "code",
   "execution_count": null,
   "metadata": {},
   "outputs": [],
   "source": [
    "fit_by_lt"
   ]
  },
  {
   "cell_type": "code",
   "execution_count": null,
   "metadata": {},
   "outputs": [],
   "source": [
    "\n",
    "for lt,d in fit_by_lt.items():\n",
    "    print(lt, d['chi2_red'])\n",
    "    \n",
    "good_lt = min([p for p in fit_by_lt.items() if p[1]['chi2_red']<chi2_limit], key=lambda x:x)\n",
    "\n",
    "good_lt_next = min([p for p in fit_by_lt.items() if p[1]['chi2_red']<chi2_limit*1.2], key=lambda x:x)\n",
    "\n",
    "good_lt[0],good_lt_next[0]"
   ]
  },
  {
   "cell_type": "code",
   "execution_count": null,
   "metadata": {},
   "outputs": [],
   "source": [
    "fn_picked=fn_by_lt[good_lt[0]]\n",
    "fn_next_picked=fn_by_lt[good_lt_next[0]]"
   ]
  },
  {
   "cell_type": "code",
   "execution_count": null,
   "metadata": {},
   "outputs": [],
   "source": [
    "def run_local():\n",
    "    pass"
   ]
  },
  {
   "cell_type": "code",
   "execution_count": null,
   "metadata": {},
   "outputs": [],
   "source": [
    "def run_cdci():\n",
    "    pass"
   ]
  },
  {
   "cell_type": "code",
   "execution_count": null,
   "metadata": {},
   "outputs": [],
   "source": [
    "def run_ddosa():\n",
    "    pass"
   ]
  },
  {
   "cell_type": "code",
   "execution_count": null,
   "metadata": {},
   "outputs": [],
   "source": [
    "summary={\n",
    "    'status': 'OK',\n",
    "    'emin_good': good_lt,\n",
    "}"
   ]
  },
  {
   "cell_type": "code",
   "execution_count": null,
   "metadata": {
    "tags": [
     "outputs"
    ]
   },
   "outputs": [],
   "source": [
    "summary=summary\n",
    "fit_results=fit_by_lt\n",
    "crab_by_osa=crab_by_osa\n",
    "good_fit_png=fn_picked\n",
    "next_good_fit_png=fn_next_picked"
   ]
  }
 ],
 "metadata": {
  "celltoolbar": "Tags",
  "kernelspec": {
   "display_name": "Python 3",
   "language": "python",
   "name": "python3"
  },
  "language_info": {
   "codemirror_mode": {
    "name": "ipython",
    "version": 3
   },
   "file_extension": ".py",
   "mimetype": "text/x-python",
   "name": "python",
   "nbconvert_exporter": "python",
   "pygments_lexer": "ipython3",
   "version": "3.6.9"
  }
 },
 "nbformat": 4,
 "nbformat_minor": 2
}
